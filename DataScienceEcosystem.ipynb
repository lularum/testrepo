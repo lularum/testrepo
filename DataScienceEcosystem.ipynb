{
 "cells": [
  {
   "cell_type": "code",
   "execution_count": null,
   "id": "7e898ce8-3090-4397-9096-1035910f4e2f",
   "metadata": {},
   "outputs": [],
   "source": []
  },
  {
   "cell_type": "markdown",
   "id": "49f99784-f1ad-4148-99ed-2510cabe0cdd",
   "metadata": {},
   "source": [
    "# Data Science Tools and Ecosystem"
   ]
  },
  {
   "cell_type": "markdown",
   "id": "d014beeb-35c5-4283-9d96-cff195623018",
   "metadata": {},
   "source": [
    "In this notebook, Data Science and Ecosystem are summarized."
   ]
  },
  {
   "cell_type": "markdown",
   "id": "14b4733a-f96f-4c1b-9541-d94ff0a16529",
   "metadata": {},
   "source": [
    "**Objectives**\n",
    "- List popular languages of Data Science\n",
    "- List of some of the commonly Data Science libraries\n",
    "- List some Data Science tools\n",
    "- Explore few arithmetic expressions in Python"
   ]
  },
  {
   "cell_type": "markdown",
   "id": "e6ba2ec8-a564-4b28-99bd-e5844974f012",
   "metadata": {},
   "source": [
    "Some of the popular languages that Data Scientists use are:\n",
    "1. Python\n",
    "2. SQL\n",
    "3. JAVA\n",
    "4. R\n"
   ]
  },
  {
   "cell_type": "markdown",
   "id": "2dec748e-4bd8-4802-8eae-8097638fe590",
   "metadata": {},
   "source": [
    "Some of the commonly used libraries used by Data Scientists include:\n",
    "1. Numpy\n",
    "2. Pandas\n",
    "3. Matplotlib"
   ]
  },
  {
   "cell_type": "markdown",
   "id": "934bec77-762f-439c-9935-c3d8f59c509d",
   "metadata": {},
   "source": [
    "|#Data Science Tools|\n",
    ":--------------------:\n",
    "|Jupiter Notebook|\n",
    "|RStudio|\n",
    "|VS Code with Python"
   ]
  },
  {
   "cell_type": "markdown",
   "id": "b6bebc4b-3c87-4b09-8f3b-ecab1dde7d24",
   "metadata": {},
   "source": [
    "### Below are few examples of evaluating arithmetic expressions in Python"
   ]
  },
  {
   "cell_type": "code",
   "execution_count": 15,
   "id": "b11bee58-906b-4279-8560-7cfbed47fa1b",
   "metadata": {},
   "outputs": [
    {
     "data": {
      "text/plain": [
       "17"
      ]
     },
     "execution_count": 15,
     "metadata": {},
     "output_type": "execute_result"
    }
   ],
   "source": [
    "#This is a simple arithmetic expression to multiply then add integers:\n",
    "(3*4) + 5"
   ]
  },
  {
   "cell_type": "code",
   "execution_count": 17,
   "id": "2b6f4692-c1c2-4209-92c6-9d0ee4607405",
   "metadata": {},
   "outputs": [
    {
     "data": {
      "text/plain": [
       "3.3333333333333335"
      ]
     },
     "execution_count": 17,
     "metadata": {},
     "output_type": "execute_result"
    }
   ],
   "source": [
    "#This will convert 200 minutes to hours by dividing by 60\n",
    "minutes = 200\n",
    "hours = minutes / 60\n",
    "hours"
   ]
  },
  {
   "cell_type": "markdown",
   "id": "3d334950-7000-4e63-8a4b-50f625f18ac6",
   "metadata": {},
   "source": [
    "## Author\n",
    "Luisa Larumbe"
   ]
  },
  {
   "cell_type": "code",
   "execution_count": null,
   "id": "c51784d0-a859-4128-b452-5ef6f125f6ee",
   "metadata": {},
   "outputs": [],
   "source": []
  }
 ],
 "metadata": {
  "kernelspec": {
   "display_name": "Python 3 (ipykernel)",
   "language": "python",
   "name": "python3"
  },
  "language_info": {
   "codemirror_mode": {
    "name": "ipython",
    "version": 3
   },
   "file_extension": ".py",
   "mimetype": "text/x-python",
   "name": "python",
   "nbconvert_exporter": "python",
   "pygments_lexer": "ipython3",
   "version": "3.12.4"
  }
 },
 "nbformat": 4,
 "nbformat_minor": 5
}
